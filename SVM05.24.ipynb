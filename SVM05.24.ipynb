{
 "cells": [
  {
   "cell_type": "code",
   "execution_count": 2,
   "metadata": {},
   "outputs": [
    {
     "name": "stdout",
     "output_type": "stream",
     "text": [
      " E 드라이브의 볼륨: 새 볼륨\n",
      " 볼륨 일련 번호: 1EAE-2B96\n",
      "\n",
      " E:\\project 디렉터리\n",
      "\n",
      "2020-05-12  오후 04:33    <DIR>          .\n",
      "2020-05-12  오후 04:33    <DIR>          ..\n",
      "2020-05-12  오후 03:56    <DIR>          .ipynb_checkpoints\n",
      "2020-05-07  오후 04:06            55,296 10foldvalidation.ipynb\n",
      "2020-05-12  오후 04:33           207,075 2020.05.07.ipynb\n",
      "2020-04-27  오후 03:49           662,602 dataset_eeg_3.csv\n",
      "2020-05-07  오후 03:51           661,826 dataset_eeg_4.csv\n",
      "2020-05-12  오후 12:44    <DIR>          datasets\n",
      "2020-02-21  오후 04:39    <DIR>          DentisAI\n",
      "2020-03-20  오후 05:17    <DIR>          EEG_csv_data\n",
      "2020-03-20  오후 05:16    <DIR>          EEG_data\n",
      "2020-04-08  오전 11:52            42,209 EEG_ML_RESULT.ipynb\n",
      "2020-03-20  오후 05:14            34,308 EEG_ML_V09.ipynb\n",
      "2020-05-07  오후 03:46            74,280 eeg_test.ipynb\n",
      "2020-05-24  오후 07:14    <DIR>          Hands_on_machine_learning\n",
      "2020-04-04  오전 12:33            19,756 kernel_pca_result.csv\n",
      "2020-04-06  오후 07:25            19,225 kernel_pca_result1.csv\n",
      "2020-04-27  오후 07:32           246,328 kernel_pca_svm.ipynb\n",
      "2020-04-27  오후 07:31             1,082 kernel_pca_svm_result1.csv\n",
      "2020-04-16  오후 01:23            17,193 LDA_transformed_result.ipynb\n",
      "2020-02-18  오전 10:39    <DIR>          Machine-Learning-Seminar\n",
      "2020-03-20  오후 05:14    <DIR>          ML_EEG\n",
      "2020-05-12  오후 01:08             4,641 my_model.pkl\n",
      "2020-04-08  오후 01:42            17,372 poster_result.ipynb\n",
      "2020-04-06  오후 03:08             3,476 result.csv\n",
      "2020-04-06  오후 07:25           136,713 result_save_csv.ipynb\n",
      "2020-04-02  오후 04:34             8,475 result_save_csv.zip\n",
      "2020-04-24  오후 04:01           169,065 SVM.ipynb\n",
      "2020-03-24  오후 03:21             6,109 temporary.zip\n",
      "2020-05-07  오후 07:19           125,719 test1.ipynb\n",
      "              20개 파일           2,512,750 바이트\n",
      "              10개 디렉터리  1,925,831,385,088 바이트 남음\n"
     ]
    }
   ],
   "source": [
    "ls"
   ]
  },
  {
   "cell_type": "code",
   "execution_count": null,
   "metadata": {},
   "outputs": [],
   "source": []
  }
 ],
 "metadata": {
  "kernelspec": {
   "display_name": "Python 3",
   "language": "python",
   "name": "python3"
  },
  "language_info": {
   "codemirror_mode": {
    "name": "ipython",
    "version": 3
   },
   "file_extension": ".py",
   "mimetype": "text/x-python",
   "name": "python",
   "nbconvert_exporter": "python",
   "pygments_lexer": "ipython3",
   "version": "3.7.4"
  }
 },
 "nbformat": 4,
 "nbformat_minor": 4
}
